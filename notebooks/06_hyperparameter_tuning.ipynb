{
 "cells": [
  {
   "cell_type": "code",
   "execution_count": 1,
   "id": "902f52f4",
   "metadata": {},
   "outputs": [],
   "source": [
    "import os\n",
    "import pandas as pd\n",
    "import numpy as np\n",
    "import matplotlib.pyplot as plt\n",
    "from sklearn.model_selection import GridSearchCV, RandomizedSearchCV\n",
    "from sklearn.linear_model import LogisticRegression\n",
    "from sklearn.tree import DecisionTreeClassifier\n",
    "from sklearn.ensemble import RandomForestClassifier\n",
    "from sklearn.svm import SVC\n",
    "from sklearn.metrics import accuracy_score, precision_score, recall_score, f1_score, roc_auc_score\n",
    "from sklearn.preprocessing import label_binarize\n",
    "from scipy.stats import uniform, randint"
   ]
  },
  {
   "cell_type": "code",
   "execution_count": 2,
   "id": "152b0a64",
   "metadata": {},
   "outputs": [],
   "source": [
    "np.random.seed(42)"
   ]
  },
  {
   "cell_type": "code",
   "execution_count": 3,
   "id": "63325f63",
   "metadata": {},
   "outputs": [],
   "source": [
    "project_dir = 'D:\\\\Heart_Disease_Project'\n",
    "os.makedirs(project_dir, exist_ok=True)\n",
    "os.makedirs(os.path.join(project_dir, 'notebooks'), exist_ok=True)\n",
    "os.makedirs(os.path.join(project_dir, 'results'), exist_ok=True)"
   ]
  },
  {
   "cell_type": "code",
   "execution_count": 4,
   "id": "49e7b3ae",
   "metadata": {},
   "outputs": [],
   "source": [
    "train_data_path = os.path.join(project_dir, 'data', 'heart_disease_train.csv')\n",
    "test_data_path = os.path.join(project_dir, 'data', 'heart_disease_test.csv')\n",
    "train_df = pd.read_csv(train_data_path)\n",
    "test_df = pd.read_csv(test_data_path)"
   ]
  },
  {
   "cell_type": "code",
   "execution_count": 5,
   "id": "15c8dc88",
   "metadata": {},
   "outputs": [],
   "source": [
    "X_train = train_df.drop('target', axis=1)\n",
    "y_train = train_df['target']\n",
    "X_test = test_df.drop('target', axis=1)\n",
    "y_test = test_df['target']"
   ]
  },
  {
   "cell_type": "code",
   "execution_count": 6,
   "id": "89d6b2a5",
   "metadata": {},
   "outputs": [],
   "source": [
    "models = {\n",
    "    'Logistic Regression': LogisticRegression(random_state=42, max_iter=1000),\n",
    "    'Decision Tree': DecisionTreeClassifier(random_state=42),\n",
    "    'Random Forest': RandomForestClassifier(random_state=42),\n",
    "    'Support Vector Machine': SVC(random_state=42, probability=True)\n",
    "}\n",
    "param_grids = {\n",
    "    'Logistic Regression':{\n",
    "        'C': [0.001,0.1,1,10,100],\n",
    "        'solver': ['lbfgs', 'liblinear']\n",
    "    }, \n",
    "    'Decision Tree':{\n",
    "        'max_depth': [3,5,7,10,None],\n",
    "        'min_samples_split': [2,5,10]\n",
    "    },\n",
    "    'Random Forest':{\n",
    "        'n_estimators': [50,100,200],\n",
    "        'max_depth': [3,5,7,None],\n",
    "        'min_samples_split': [2,5,10]\n",
    "    },\n",
    "    'Support Vector Machine':{\n",
    "        'C': [0.1,1,10],\n",
    "        'kernel': ['rbf', 'linear'],\n",
    "        'gamma': ['scale', 'auto', 0.1]\n",
    "    }\n",
    "}\n",
    "\n",
    "param_distributions = {\n",
    "    'Logistic Regression':{\n",
    "        'C': uniform(0.01,100),\n",
    "        'solver': ['lbfgs', 'liblinear']\n",
    "    },\n",
    "    'Decision Tree':{\n",
    "        'max_depth': [3,5,7,10,None],\n",
    "        'min_samples_split': randint(2,11) \n",
    "    },\n",
    "    'Random Forest':{\n",
    "        'n_estimators': randint(50,201),\n",
    "        'max_depth': [3,5,7,None],\n",
    "        'min_samples_split': randint(2,11) \n",
    "    },\n",
    "    'Support Vector Machine':{\n",
    "        'C': uniform(0.1,10),\n",
    "        'kernel': ['rbf', 'linear'],\n",
    "        'gamma': ['scale', 'auto', 0.1]\n",
    "    }\n",
    "}"
   ]
  },
  {
   "cell_type": "code",
   "execution_count": 7,
   "id": "8fde1773",
   "metadata": {},
   "outputs": [
    {
     "name": "stdout",
     "output_type": "stream",
     "text": [
      "\n",
      "Tuning Logistic Regression...\n"
     ]
    },
    {
     "name": "stderr",
     "output_type": "stream",
     "text": [
      "d:\\Heart_Disease_Project\\.venv\\Lib\\site-packages\\sklearn\\linear_model\\_logistic.py:1296: FutureWarning: Using the 'liblinear' solver for multiclass classification is deprecated. An error will be raised in 1.8. Either use another solver which supports the multinomial loss or wrap the estimator in a OneVsRestClassifier to keep applying a one-versus-rest scheme.\n",
      "  warnings.warn(\n",
      "d:\\Heart_Disease_Project\\.venv\\Lib\\site-packages\\sklearn\\linear_model\\_logistic.py:1296: FutureWarning: Using the 'liblinear' solver for multiclass classification is deprecated. An error will be raised in 1.8. Either use another solver which supports the multinomial loss or wrap the estimator in a OneVsRestClassifier to keep applying a one-versus-rest scheme.\n",
      "  warnings.warn(\n"
     ]
    },
    {
     "name": "stdout",
     "output_type": "stream",
     "text": [
      "GridSearchCV Best Params: {'C': 1, 'solver': 'liblinear'}\n",
      "GridSearchCV Best Cross-Val Score: 0.6036\n",
      "RandomizedSearchCV Best Params: {'C': np.float64(5.818361216819946), 'solver': 'liblinear'}\n",
      "RandomizedSearchCV Best Cross-Val Score: 0.5994\n",
      "\n",
      "Tuning Decision Tree...\n",
      "GridSearchCV Best Params: {'max_depth': 5, 'min_samples_split': 10}\n",
      "GridSearchCV Best Cross-Val Score: 0.5783\n",
      "RandomizedSearchCV Best Params: {'max_depth': 5, 'min_samples_split': 4}\n",
      "RandomizedSearchCV Best Cross-Val Score: 0.5784\n",
      "\n",
      "Tuning Random Forest...\n",
      "GridSearchCV Best Params: {'max_depth': 7, 'min_samples_split': 10, 'n_estimators': 100}\n",
      "GridSearchCV Best Cross-Val Score: 0.6241\n",
      "RandomizedSearchCV Best Params: {'max_depth': 7, 'min_samples_split': 9, 'n_estimators': 70}\n",
      "RandomizedSearchCV Best Cross-Val Score: 0.6241\n",
      "\n",
      "Tuning Support Vector Machine...\n",
      "GridSearchCV Best Params: {'C': 1, 'gamma': 'scale', 'kernel': 'linear'}\n",
      "GridSearchCV Best Cross-Val Score: 0.5992\n",
      "RandomizedSearchCV Best Params: {'C': np.float64(0.6808361216819946), 'gamma': 'scale', 'kernel': 'linear'}\n",
      "RandomizedSearchCV Best Cross-Val Score: 0.6117\n"
     ]
    }
   ],
   "source": [
    "best_models={}\n",
    "for name, model in models.items():\n",
    "    print(f'\\nTuning {name}...')\n",
    "    \n",
    "    grid_search= GridSearchCV(model, param_grids[name], cv=5, scoring='accuracy', n_jobs=-1)\n",
    "    grid_search.fit(X_train, y_train)\n",
    "    best_models[f'{name}_Grid'] = grid_search.best_estimator_\n",
    "    print(f'GridSearchCV Best Params: {grid_search.best_params_}')\n",
    "    print(f'GridSearchCV Best Cross-Val Score: {grid_search.best_score_:.4f}')\n",
    "\n",
    "    random_search = RandomizedSearchCV(model, param_distributions[name], n_iter=10, cv=5, scoring='accuracy', n_jobs=-1, random_state=42)\n",
    "    random_search.fit(X_train, y_train)\n",
    "    best_models[f'{name}_Random'] = random_search.best_estimator_\n",
    "    print(f\"RandomizedSearchCV Best Params: {random_search.best_params_}\")\n",
    "    print(f\"RandomizedSearchCV Best Cross-Val Score: {random_search.best_score_:.4f}\")\n",
    "    "
   ]
  },
  {
   "cell_type": "code",
   "execution_count": 8,
   "id": "e1900bf3",
   "metadata": {},
   "outputs": [],
   "source": [
    "metrics={}\n",
    "baseline_metrics={}\n",
    "baseline_path = os.path.join(project_dir, 'results', 'evaluation_metrics.txt')\n",
    "if os.path.exists(baseline_path):\n",
    "    with open(baseline_path, 'r') as f:\n",
    "        lines = [line.strip() for line in f.read().split('\\n') if line.strip()]  # Remove empty lines and strip whitespace\n",
    "        i = 0\n",
    "        while i < len(lines):\n",
    "            if 'Metrics:' in lines[i]:\n",
    "                model_name = lines[i].replace(' Metrics:', '')\n",
    "                baseline_metrics[model_name] = {}\n",
    "                i += 1\n",
    "                for _ in range(5):  # Expect 5 metrics\n",
    "                    if i < len(lines) and ':' in lines[i]:\n",
    "                        key, value = lines[i].split(': ', 1)  # Split on first ':'\n",
    "                        if value.strip():\n",
    "                            baseline_metrics[model_name][key] = float(value)\n",
    "                        else:\n",
    "                            print(f\"Warning: No value for {key} in {model_name} at line {i}\")\n",
    "                    i += 1\n",
    "            else:\n",
    "                i += 1\n",
    "else:\n",
    "    print(\"Baseline metrics file not found. Skipping comparison.\")\n",
    "for name, model in best_models.items():\n",
    "    base_name = name.split('_')[0]\n",
    "    y_pred = model.predict(X_test)\n",
    "    y_prob = model.predict_proba(X_test)\n",
    "    accuracy = accuracy_score(y_test, y_pred)\n",
    "    precision = precision_score(y_test, y_pred, average='weighted', zero_division=0)\n",
    "    recall = recall_score(y_test, y_pred, average='weighted')\n",
    "    f1 = f1_score(y_test, y_pred, average='weighted')\n",
    "    roc_auc = roc_auc_score(y_test, y_prob, multi_class='ovr', average='weighted')\n",
    "\n",
    "    metrics[name] = {\n",
    "        'Accuracy': accuracy,\n",
    "        'Precision': precision,\n",
    "        'Recall': recall,\n",
    "        'F1-score': f1,\n",
    "        'AUC': roc_auc\n",
    "    }"
   ]
  },
  {
   "cell_type": "code",
   "execution_count": 9,
   "id": "ac1ee073",
   "metadata": {},
   "outputs": [
    {
     "name": "stdout",
     "output_type": "stream",
     "text": [
      "Best model type: <class 'sklearn.linear_model._logistic.LogisticRegression'>\n",
      "Best model params: {'C': 1, 'class_weight': None, 'dual': False, 'fit_intercept': True, 'intercept_scaling': 1, 'l1_ratio': None, 'max_iter': 1000, 'multi_class': 'deprecated', 'n_jobs': None, 'penalty': 'l2', 'random_state': 42, 'solver': 'liblinear', 'tol': 0.0001, 'verbose': 0, 'warm_start': False}\n",
      "Best model pipeline saved to D:\\Heart_Disease_Project\\models\\final_model.pkl\n",
      "Loaded Model Accuracy: 0.6230\n",
      "Loaded Model AUC: 0.8648\n"
     ]
    },
    {
     "name": "stderr",
     "output_type": "stream",
     "text": [
      "d:\\Heart_Disease_Project\\.venv\\Lib\\site-packages\\sklearn\\linear_model\\_logistic.py:1296: FutureWarning: Using the 'liblinear' solver for multiclass classification is deprecated. An error will be raised in 1.8. Either use another solver which supports the multinomial loss or wrap the estimator in a OneVsRestClassifier to keep applying a one-versus-rest scheme.\n",
      "  warnings.warn(\n"
     ]
    }
   ],
   "source": [
    "# Cell 6: Export the best model\n",
    "from joblib import dump, load\n",
    "from sklearn.pipeline import Pipeline\n",
    "from sklearn.preprocessing import StandardScaler\n",
    "# Define the export path\n",
    "model_path = os.path.join(project_dir, 'models', 'final_model.pkl')\n",
    "os.makedirs(os.path.join(project_dir, 'models'), exist_ok=True)  # Ensure models directory exists\n",
    "\n",
    "# Load scaled training data\n",
    "train_data_path = os.path.join(project_dir, 'data', 'heart_disease_train.csv')\n",
    "train_df = pd.read_csv(train_data_path)\n",
    "X_train = train_df.drop('target', axis=1)\n",
    "y_train = train_df['target']\n",
    "\n",
    "# Use the best estimator directly from best_models\n",
    "best_model_name = 'Logistic Regression_Grid'\n",
    "best_model = best_models[best_model_name]\n",
    "print(\"Best model type:\", type(best_model))\n",
    "print(\"Best model params:\", best_model.get_params())\n",
    "\n",
    "# Create a pipeline with a no-op scaler (since data is pre-scaled) and the best model\n",
    "pipeline = Pipeline([\n",
    "    ('scaler', StandardScaler(with_mean=False, with_std=False)),  # No-op scaler\n",
    "    ('model', best_model)\n",
    "])\n",
    "pipeline.fit(X_train, y_train)  # Fit to maintain pipeline structure\n",
    "\n",
    "# Save the pipeline\n",
    "dump(pipeline, model_path)\n",
    "print(f\"Best model pipeline saved to {model_path}\")\n",
    "\n",
    "# Validate the saved pipeline\n",
    "loaded_pipeline = load(model_path)\n",
    "y_pred = loaded_pipeline.predict(X_test)\n",
    "y_prob = loaded_pipeline.predict_proba(X_test)\n",
    "accuracy = accuracy_score(y_test, y_pred)\n",
    "roc_auc = roc_auc_score(y_test, y_prob, multi_class='ovr', average='weighted')\n",
    "print(f\"Loaded Model Accuracy: {accuracy:.4f}\")\n",
    "print(f\"Loaded Model AUC: {roc_auc:.4f}\")"
   ]
  },
  {
   "cell_type": "code",
   "execution_count": 10,
   "id": "689d5f0f",
   "metadata": {},
   "outputs": [
    {
     "name": "stdout",
     "output_type": "stream",
     "text": [
      "\n",
      "Optimized Model Performance:\n",
      "\n",
      "Logistic Regression_Grid Metrics:\n",
      "Accuracy: 0.6230\n",
      "Precision: 0.5183\n",
      "Recall: 0.6230\n",
      "F1-score: 0.5524\n",
      "AUC: 0.8648\n",
      "\n",
      "Logistic Regression_Random Metrics:\n",
      "Accuracy: 0.6066\n",
      "Precision: 0.5060\n",
      "Recall: 0.6066\n",
      "F1-score: 0.5428\n",
      "AUC: 0.8697\n",
      "\n",
      "Decision Tree_Grid Metrics:\n",
      "Accuracy: 0.5410\n",
      "Precision: 0.4716\n",
      "Recall: 0.5410\n",
      "F1-score: 0.4994\n",
      "AUC: 0.7178\n",
      "\n",
      "Decision Tree_Random Metrics:\n",
      "Accuracy: 0.5410\n",
      "Precision: 0.4953\n",
      "Recall: 0.5410\n",
      "F1-score: 0.5156\n",
      "AUC: 0.7259\n",
      "\n",
      "Random Forest_Grid Metrics:\n",
      "Accuracy: 0.5410\n",
      "Precision: 0.4169\n",
      "Recall: 0.5410\n",
      "F1-score: 0.4709\n",
      "AUC: 0.7906\n",
      "\n",
      "Random Forest_Random Metrics:\n",
      "Accuracy: 0.5410\n",
      "Precision: 0.4249\n",
      "Recall: 0.5410\n",
      "F1-score: 0.4760\n",
      "AUC: 0.7938\n",
      "\n",
      "Support Vector Machine_Grid Metrics:\n",
      "Accuracy: 0.6230\n",
      "Precision: 0.5135\n",
      "Recall: 0.6230\n",
      "F1-score: 0.5486\n",
      "AUC: 0.8789\n",
      "\n",
      "Support Vector Machine_Random Metrics:\n",
      "Accuracy: 0.6230\n",
      "Precision: 0.5135\n",
      "Recall: 0.6230\n",
      "F1-score: 0.5486\n",
      "AUC: 0.8757\n",
      "\n",
      "Best Performing Model: Logistic Regression_Grid\n"
     ]
    }
   ],
   "source": [
    "best_model_name = max(metrics, key=lambda x:metrics[x]['Accuracy'])\n",
    "best_model = best_models[best_model_name]\n",
    "best_params = best_models[best_model_name].get_params()\n",
    "print('\\nOptimized Model Performance:')\n",
    "for name, m in metrics.items():\n",
    "    print(f'\\n{name} Metrics:')\n",
    "    for k,v in m.items():\n",
    "        print(f'{k}: {v:.4f}')\n",
    "    if name in baseline_metrics:\n",
    "        print(f'Baseline {k}: {baseline_metrics[name.split('_')[0]][k]:.4f}')\n",
    "print(f\"\\nBest Performing Model: {best_model_name}\")\n"
   ]
  },
  {
   "cell_type": "code",
   "execution_count": 24,
   "id": "e68acff4",
   "metadata": {},
   "outputs": [
    {
     "name": "stdout",
     "output_type": "stream",
     "text": [
      "Best model details saved to D:\\Heart_Disease_Project\\results\\best_model_details.txt\n"
     ]
    }
   ],
   "source": [
    "output_path = os.path.join(project_dir, 'results', 'best_model_details.txt')\n",
    "with open(output_path, 'w') as f:\n",
    "    f.write(f\"Best Performing Model: {best_model_name}\\n\")\n",
    "    f.write(\"Best Hyperparameters:\\n\")\n",
    "    for param, value in best_params.items():\n",
    "        f.write(f\"{param}: {value}\\n\")\n",
    "    f.write(\"\\nPerformance Metrics:\\n\")\n",
    "    for k, v in metrics[best_model_name].items():\n",
    "        f.write(f\"{k}: {v:.4f}\\n\")\n",
    "print(f\"Best model details saved to {output_path}\")"
   ]
  }
 ],
 "metadata": {
  "kernelspec": {
   "display_name": ".venv",
   "language": "python",
   "name": "python3"
  },
  "language_info": {
   "codemirror_mode": {
    "name": "ipython",
    "version": 3
   },
   "file_extension": ".py",
   "mimetype": "text/x-python",
   "name": "python",
   "nbconvert_exporter": "python",
   "pygments_lexer": "ipython3",
   "version": "3.13.6"
  }
 },
 "nbformat": 4,
 "nbformat_minor": 5
}
